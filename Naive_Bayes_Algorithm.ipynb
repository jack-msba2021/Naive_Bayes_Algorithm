{
  "nbformat": 4,
  "nbformat_minor": 0,
  "metadata": {
    "colab": {
      "name": "Naive_Bayes_Algorithm.ipynb",
      "provenance": [],
      "collapsed_sections": []
    },
    "kernelspec": {
      "display_name": "Python 3",
      "language": "python",
      "name": "python3"
    },
    "language_info": {
      "codemirror_mode": {
        "name": "ipython",
        "version": 3
      },
      "file_extension": ".py",
      "mimetype": "text/x-python",
      "name": "python",
      "nbconvert_exporter": "python",
      "pygments_lexer": "ipython3",
      "version": "3.5.4"
    }
  },
  "cells": [
    {
      "cell_type": "markdown",
      "metadata": {
        "id": "iCZYXwtCsL_y"
      },
      "source": [
        "This is a eMail Spam Classifer that uses Naive Bayes supervised machine learning algorithm."
      ]
    },
    {
      "cell_type": "code",
      "metadata": {
        "collapsed": true,
        "id": "4p_DvtT7sOIr"
      },
      "source": [
        "#importing necessary packages\n",
        "\n",
        "import os\n",
        "import numpy as np\n",
        "from collections import Counter\n",
        "from sklearn.naive_bayes import GaussianNB\n",
        "from sklearn.metrics import accuracy_score"
      ],
      "execution_count": null,
      "outputs": []
    },
    {
      "cell_type": "code",
      "metadata": {
        "id": "37z0FPdF0T18"
      },
      "source": [
        "#mount drive\n",
        "from google.colab import drive\n",
        "drive.mount('/content/drive')"
      ],
      "execution_count": null,
      "outputs": []
    },
    {
      "cell_type": "markdown",
      "metadata": {
        "id": "CXknSIrLvzfQ"
      },
      "source": [
        "This function builds a Dictionary of most common 3000 words from all the email content. First it adds all words and symbols in the dictionary. Then it removes all non-alpha-numeric characters and any single character alpha-numeric characters. After this is complete it shrinks the Dictionary by keeping only most common 3000 words in the dictionary. It returns the Dictionary."
      ]
    },
    {
      "cell_type": "code",
      "metadata": {
        "collapsed": true,
        "id": "jjKF0nIMwz8_",
        "colab": {
          "base_uri": "https://localhost:8080/"
        },
        "outputId": "5485ff6c-f9e1-4f8f-aeda-4574ec7dd1fc"
      },
      "source": [
        "def dictionary_builder(root_dir):\n",
        "  words_and_symbols = [] #creating a list for all words and symbols\n",
        "  all_emails = [os.path.join(root_dir,f) for f in os.listdir(root_dir)] #reading in the emails into a variable\n",
        "  for email in all_emails: #looping through each email\n",
        "    with open(email) as m:\n",
        "      for line in m:\n",
        "        word_list = line.split() #splitting each email into a list where each word is a list item\n",
        "        words_and_symbols += word_list #appending the dictionary to main list\n",
        "  dictionary = Counter(words_and_symbols) #counting the equivalent values for frequency\n",
        "  cleaning_list = list(dictionary)\n",
        "\n",
        "  for character in cleaning_list:\n",
        "    if character.isalpha() == False: #removing non-alphabet characters\n",
        "      del dictionary[character]\n",
        "    elif len(character) == 1: #removing additional symbols and articles\n",
        "      del dictionary[character]\n",
        "  dictionary = dictionary.most_common(3000) #returning 3000 most frequent words\n",
        "  return dictionary\n",
        "print(\"List of 3000 most frequent words created\") "
      ],
      "execution_count": null,
      "outputs": [
        {
          "output_type": "stream",
          "text": [
            "List of 3000 most frequent words created\n"
          ],
          "name": "stdout"
        }
      ]
    },
    {
      "cell_type": "markdown",
      "metadata": {
        "id": "U_NG2-TpxQ1j"
      },
      "source": [
        "This function extracts feature columns and populates their values (Feature Matrix of 3000 comumns and rows equal to the number of email files). The function also analyzes the File Names of each email file and decides if it's a Spam or not based on the naming convention. Based on this the function also creates the Labelled Data Column. This function is used to extract the training dataset as well as the testing dataset and returns the Feature Dataset and the Label column."
      ]
    },
    {
      "cell_type": "code",
      "metadata": {
        "collapsed": true,
        "id": "dmVW5xNlyOFc",
        "colab": {
          "base_uri": "https://localhost:8080/"
        },
        "outputId": "1fabada8-ad2b-4362-eb56-ea4f634b0636"
      },
      "source": [
        "def extract_features(mail_dir):\n",
        "  email_files = [os.path.join(mail_dir,fi) for fi in os.listdir(mail_dir)]\n",
        "  features_matrix = np.zeros((len(email_files),3000)) #array created\n",
        "  train_labels = np.zeros(len(email_files)) \n",
        "  count = 1;\n",
        "  docID = 0;\n",
        "  for file in email_files:\n",
        "    with open(file) as fi:\n",
        "      for i, line in enumerate(fi): #adding counter\n",
        "        if i ==2:\n",
        "          words = line.split() \n",
        "          for word in words:\n",
        "            wordID = 0\n",
        "            for i, d in enumerate(dictionary):\n",
        "              if d[0] == word:\n",
        "                wordID = i\n",
        "                features_matrix[docID,wordID] = words.count(word)\n",
        "      train_labels[docID] = 0;\n",
        "      filepathTokens = file.split('/')\n",
        "      lastToken = filepathTokens[len(filepathTokens)-1]\n",
        "      if lastToken.startswith(\"spmsg\"):\n",
        "        train_labels[docID] = 1;\n",
        "        count = count + 1\n",
        "      docID = docID + 1\n",
        "  return features_matrix, train_labels \n",
        "print(\"Label and word frequency matrix generated\")               "
      ],
      "execution_count": null,
      "outputs": [
        {
          "output_type": "stream",
          "text": [
            "Label and word frequency matrix generated\n"
          ],
          "name": "stdout"
        }
      ]
    },
    {
      "cell_type": "markdown",
      "metadata": {
        "id": "AbOV1Y4hxpiy"
      },
      "source": [
        "The section is the main Program that calls the above two functions and gets executed first. First it \"trains\" the model using model.fit function and Training Dataset. After that it scores the Test Data set by running the Trained Model with the Test Data set. At the end it prints the model performance in terms of accuracy score."
      ]
    },
    {
      "cell_type": "code",
      "metadata": {
        "collapsed": true,
        "id": "zoq-rE7Mx0pp"
      },
      "source": [
        "TRAIN_DIR = '/content/drive/My Drive/MSBA_Colab_2020/ML_Algorithms/CA02/Data/train-mails'\n",
        "TEST_DIR = '/content/drive/My Drive/MSBA_Colab_2020/ML_Algorithms/CA02/Data/test-mails'"
      ],
      "execution_count": null,
      "outputs": []
    },
    {
      "cell_type": "code",
      "metadata": {
        "colab": {
          "base_uri": "https://localhost:8080/"
        },
        "id": "134lmhauyQxE",
        "outputId": "422f1b3c-6f44-484c-a1ce-0b18dd52a936"
      },
      "source": [
        "dictionary = dictionary_builder(TRAIN_DIR)\n",
        "\n",
        "print (\"Reading and processing emails from TRAIN and TEST folders\\n\")\n",
        "features_matrix, labels = extract_features(TRAIN_DIR)\n",
        "test_features_matrix, test_labels = extract_features(TEST_DIR)\n",
        "\n",
        "model = GaussianNB()\n",
        "\n",
        "print (\"Training Model using Gaussian Naibe Bayes algorithm .....\\n\")\n",
        "model.fit(features_matrix, labels)\n",
        "print (\"Training completed\\n\")\n",
        "print (\"Testing trained model to predict Test Data labels\\n\")\n",
        "predicted_labels = model.predict(test_features_matrix)\n",
        "print (\"Completed classification of the Test Data .... now printing Accuracy Score by comparing the Predicted Labels with the Test Labels:\\n\")\n",
        "print (accuracy_score(test_labels, predicted_labels))"
      ],
      "execution_count": null,
      "outputs": [
        {
          "output_type": "stream",
          "text": [
            "Reading and processing emails from TRAIN and TEST folders\n",
            "\n",
            "Training Model using Gaussian Naibe Bayes algorithm .....\n",
            "\n",
            "Training completed\n",
            "\n",
            "Testing trained model to predict Test Data labels\n",
            "\n",
            "Completed classification of the Test Data .... now printing Accuracy Score by comparing the Predicted Labels with the Test Labels:\n",
            "\n",
            "0.9653846153846154\n"
          ],
          "name": "stdout"
        }
      ]
    },
    {
      "cell_type": "markdown",
      "metadata": {
        "id": "M5_mPrvN586A"
      },
      "source": [
        "======================= END OF PROGRAM ========================="
      ]
    }
  ]
}